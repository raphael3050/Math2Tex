{
 "cells": [
  {
   "cell_type": "markdown",
   "metadata": {},
   "source": [
    "### Math2Tex"
   ]
  },
  {
   "cell_type": "code",
   "execution_count": 1,
   "metadata": {},
   "outputs": [
    {
     "data": {
      "text/plain": [
       "[KW_MATH(math),\n",
       " L_PAREN((),\n",
       " KW_EQUATION(equation),\n",
       " L_PAREN((),\n",
       " IDENTIFIER(x),\n",
       " EQUOP_EQUAL(=),\n",
       " FUNC_POW(pow),\n",
       " L_PAREN((),\n",
       " IDENTIFIER(x),\n",
       " COMMA(,),\n",
       " LIT_INT(2),\n",
       " R_PAREN()),\n",
       " R_PAREN()),\n",
       " R_PAREN())]"
      ]
     },
     "execution_count": 1,
     "metadata": {},
     "output_type": "execute_result"
    }
   ],
   "source": [
    "%load_ext autoreload\n",
    "%autoreload 2\n",
    "\n",
    "from compiler.lexer import Lexer\n",
    "\n",
    "lexer = Lexer()\n",
    "lexer.lex_file(\"examples/\" + 'example1.txt')\n"
   ]
  },
  {
   "cell_type": "code",
   "execution_count": null,
   "metadata": {},
   "outputs": [],
   "source": []
  }
 ],
 "metadata": {
  "kernelspec": {
   "display_name": "Python 3",
   "language": "python",
   "name": "python3"
  },
  "language_info": {
   "codemirror_mode": {
    "name": "ipython",
    "version": 3
   },
   "file_extension": ".py",
   "mimetype": "text/x-python",
   "name": "python",
   "nbconvert_exporter": "python",
   "pygments_lexer": "ipython3",
   "version": "3.11.7"
  }
 },
 "nbformat": 4,
 "nbformat_minor": 2
}
